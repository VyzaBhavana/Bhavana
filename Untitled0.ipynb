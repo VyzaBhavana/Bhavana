{
  "nbformat": 4,
  "nbformat_minor": 0,
  "metadata": {
    "colab": {
      "provenance": [],
      "authorship_tag": "ABX9TyNGdVl6xm2Kb3UrZXyP45mv",
      "include_colab_link": true
    },
    "kernelspec": {
      "name": "python3",
      "display_name": "Python 3"
    },
    "language_info": {
      "name": "python"
    }
  },
  "cells": [
    {
      "cell_type": "markdown",
      "metadata": {
        "id": "view-in-github",
        "colab_type": "text"
      },
      "source": [
        "<a href=\"https://colab.research.google.com/github/VyzaBhavana/Bhavana/blob/main/Untitled0.ipynb\" target=\"_parent\"><img src=\"https://colab.research.google.com/assets/colab-badge.svg\" alt=\"Open In Colab\"/></a>"
      ]
    },
    {
      "cell_type": "code",
      "execution_count": null,
      "metadata": {
        "colab": {
          "base_uri": "https://localhost:8080/"
        },
        "id": "ASNxziGcNuWQ",
        "outputId": "3bb6b331-19e6-4213-87aa-03603358f1ac"
      },
      "outputs": [
        {
          "output_type": "stream",
          "name": "stdout",
          "text": [
            "[10, 10, 10]\n",
            "[10, 10, 10]\n",
            "[10, 10, 10]\n"
          ]
        }
      ],
      "source": [
        "\n",
        "X = [[1,2,3],\n",
        "    [4 ,5,6],\n",
        "    [7 ,8,9]]\n",
        "\n",
        "Y = [[9,8,7],\n",
        "    [6,5,4],\n",
        "    [3,2,1]]\n",
        "\n",
        "\n",
        "result = [[0,0,0],\n",
        "        [0,0,0],\n",
        "        [0,0,0]]\n",
        "\n",
        "for i in range(len(X)):\n",
        "    for j in range(len(X[0])):\n",
        "        result[i][j] = X[i][j] + Y[i][j]\n",
        "\n",
        "for r in result:\n",
        "    print(r)"
      ]
    },
    {
      "cell_type": "code",
      "source": [
        "X = [[1,2,3],\n",
        "    [4 ,5,6],\n",
        "    [7 ,8,9]]\n",
        "\n",
        "Y = [[9,8,7],\n",
        "    [6,5,4],\n",
        "    [3,2,1]]\n",
        "\n",
        "result = [[X[i][j] + Y[i][j]  for j in range\n",
        "(len(X[0]))] for i in range(len(X))]\n",
        "\n",
        "for r in result:\n",
        "    print(r)\n"
      ],
      "metadata": {
        "colab": {
          "base_uri": "https://localhost:8080/"
        },
        "id": "ealmLo65OoVa",
        "outputId": "bc010d6c-a0e9-46b5-b274-9d0ae448750e"
      },
      "execution_count": null,
      "outputs": [
        {
          "output_type": "stream",
          "name": "stdout",
          "text": [
            "[10, 10, 10]\n",
            "[10, 10, 10]\n",
            "[10, 10, 10]\n"
          ]
        }
      ]
    },
    {
      "cell_type": "code",
      "source": [
        "X = [[1,2],\n",
        "     [3,4]]\n",
        "Y = [[5,6],\n",
        "     [7,8]]\n",
        "result = [[X[i][j] + Y[i][j] for j in range\n",
        "(len(X[0]))] for i in range(len(X))]\n",
        "for r in result:\n",
        "    print(r)"
      ],
      "metadata": {
        "colab": {
          "base_uri": "https://localhost:8080/"
        },
        "id": "LRfy51WrSppO",
        "outputId": "52462f1b-98ab-4426-b1f7-08e15cbff23f"
      },
      "execution_count": null,
      "outputs": [
        {
          "output_type": "stream",
          "name": "stdout",
          "text": [
            "[6, 8]\n",
            "[10, 12]\n"
          ]
        }
      ]
    },
    {
      "cell_type": "code",
      "source": [
        "X = [[1,2],\n",
        "     [3,4]]\n",
        "Y = [[5,6],\n",
        "     [7,8]]\n",
        "result = [[X[i][j] - Y[i][j] for j in range\n",
        "(len(X[0]))] for i in range(len(X))]\n",
        "for r in result:\n",
        "    print(r)"
      ],
      "metadata": {
        "colab": {
          "base_uri": "https://localhost:8080/"
        },
        "id": "1DgEzdTvTw7C",
        "outputId": "0703cb7f-e496-4e8a-e553-19abf2db9f4a"
      },
      "execution_count": null,
      "outputs": [
        {
          "output_type": "stream",
          "name": "stdout",
          "text": [
            "[-4, -4]\n",
            "[-4, -4]\n"
          ]
        }
      ]
    },
    {
      "cell_type": "code",
      "source": [
        "X = [[1,2],\n",
        "     [3,4]]\n",
        "Y = [[5,6],\n",
        "     [7,8]]\n",
        "result = [[X[i][j] * Y[i][j] for j in range\n",
        "(len(X[0]))] for i in range(len(X))]\n",
        "for r in result:\n",
        "    print(r)"
      ],
      "metadata": {
        "colab": {
          "base_uri": "https://localhost:8080/"
        },
        "id": "xzpYHLbpU9j0",
        "outputId": "32efb3e6-0478-4d86-83b4-6bdd85fbd2d5"
      },
      "execution_count": null,
      "outputs": [
        {
          "output_type": "stream",
          "name": "stdout",
          "text": [
            "[5, 12]\n",
            "[21, 32]\n"
          ]
        }
      ]
    },
    {
      "cell_type": "code",
      "source": [
        "X = [[2,4],\n",
        "     [6,8]]\n",
        "Y = [[2,2],\n",
        "     [2,2]]\n",
        "result = [[X[i][j] / Y[i][j] for j in range\n",
        "(len(X[0]))] for i in range(len(X))]\n",
        "for r in result:\n",
        "    print(r)"
      ],
      "metadata": {
        "colab": {
          "base_uri": "https://localhost:8080/"
        },
        "id": "m_zal4K7VstZ",
        "outputId": "d9fb15f4-7303-450d-aed3-17d5328476c8"
      },
      "execution_count": null,
      "outputs": [
        {
          "output_type": "stream",
          "name": "stdout",
          "text": [
            "[1.0, 2.0]\n",
            "[3.0, 4.0]\n"
          ]
        }
      ]
    },
    {
      "cell_type": "code",
      "source": [
        "X = [[1,2,3],\n",
        "     [4,5,6],\n",
        "     [7,8,9]]\n",
        "Y = [[10,11,12],\n",
        "     [13,14,15],\n",
        "     [16,17,18]]\n",
        "result = [[X[i][j] % Y[i][j] for j in range\n",
        "(len(X[0]))] for i in range(len(X))]\n",
        "for r in result:\n",
        "    print(r)\n",
        "\n"
      ],
      "metadata": {
        "colab": {
          "base_uri": "https://localhost:8080/"
        },
        "id": "FHGbY-urXotW",
        "outputId": "17e1ba0f-f0e6-4207-87b7-9fe333d6f360"
      },
      "execution_count": null,
      "outputs": [
        {
          "output_type": "stream",
          "name": "stdout",
          "text": [
            "[1, 2, 3]\n",
            "[4, 5, 6]\n",
            "[7, 8, 9]\n"
          ]
        }
      ]
    },
    {
      "cell_type": "code",
      "source": [
        "m = [[1, 2], [3, 4], [5, 6]]\n",
        "for row in m:\n",
        "    print(row)\n",
        "r = [[m[j][i] for j in range(len(m))] for i in range(len(m[0]))]\n",
        "print(\"\\n\")\n",
        "for row in r:\n",
        "    print(row)"
      ],
      "metadata": {
        "colab": {
          "base_uri": "https://localhost:8080/"
        },
        "id": "d_dcS1WqZKr9",
        "outputId": "a5d20993-0fb0-48e6-debf-c5c4354ff0b9"
      },
      "execution_count": null,
      "outputs": [
        {
          "output_type": "stream",
          "name": "stdout",
          "text": [
            "[1, 2]\n",
            "[3, 4]\n",
            "[5, 6]\n",
            "\n",
            "\n",
            "[1, 3, 5]\n",
            "[2, 4, 6]\n"
          ]
        }
      ]
    },
    {
      "cell_type": "code",
      "source": [],
      "metadata": {
        "id": "Vcce33ybaP4z"
      },
      "execution_count": null,
      "outputs": []
    }
  ]
}